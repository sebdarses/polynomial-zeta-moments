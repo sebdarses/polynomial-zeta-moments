{
 "cells": [
  {
   "cell_type": "markdown",
   "metadata": {},
   "source": [
    "# Polynomial Moments With a Weighted Zeta Square Measure On The Critical Line\n",
    "\n",
    "Sébastien DARSES - Erwan HILLION\n",
    "\n",
    "We want to check for some values of $N$ the main formula we proved in our paper:\n",
    "\n",
    "\\begin{eqnarray}\n",
    "\\int_{-\\infty}^\\infty t^{2N}  \\left|\\Gamma\\cdot\\zeta\\left(\\frac{1}{2}+it\\right)\\right|^2 dt  & = & \n",
    "\\frac{2\\pi}{(-4)^N} \\left(\\log(2\\pi)-\\gamma -4N + \\left(\\frac{4^N}{2}-1\\right) B_{2N}+ \\sum_{j=2}^{2N} T_{2N,j}\\frac{\\zeta(j)B_{j}}{j}\\right),\n",
    "\\end{eqnarray}\n",
    "where for all $j\\ge2$,\n",
    "$$\n",
    "\\begin{eqnarray}\n",
    "T_{N,j} & = & (j-1)!\\sum_{n=2}^{N} \\binom{N}{n} 2^{n} \\left[(-1)^n S(n+1,j) + (-1)^j S(n,j-1)\\right].\n",
    "\\end{eqnarray}\n",
    "$$\n",
    "\n",
    "Note that you need to [install sympy](https://docs.sympy.org/latest/install.html) to run this notebook."
   ]
  },
  {
   "cell_type": "code",
   "execution_count": 1,
   "metadata": {},
   "outputs": [],
   "source": [
    "from IPython.display import Markdown,display\n",
    "\n",
    "from sympy import Abs, oo, Symbol, I, binomial, exp, gamma, EulerGamma, integrate\n",
    "from sympy.core.numbers import pi\n",
    "from sympy.functions.elementary.exponential import log\n",
    "from sympy.functions.combinatorial.numbers import stirling, bernoulli\n",
    "from sympy.functions.combinatorial.factorials import factorial\n",
    "from sympy.functions.special.zeta_functions import zeta"
   ]
  },
  {
   "cell_type": "markdown",
   "metadata": {},
   "source": [
    "Let's define the numbers $T_{N,j}$:"
   ]
  },
  {
   "cell_type": "code",
   "execution_count": 2,
   "metadata": {},
   "outputs": [],
   "source": [
    "def T(N,j):\n",
    "    s = 0\n",
    "    for n in range(2, N+1):\n",
    "        s += binomial(N, n) * 2**n * \\\n",
    "            ((-1)**n * stirling(n+1, j) + (-1)**j * stirling(n, j-1))\n",
    "    s *= factorial(j-1)\n",
    "    return s"
   ]
  },
  {
   "cell_type": "markdown",
   "metadata": {},
   "source": [
    "First we compute the $2N$-th moment using the right hand side (r.h.s.) of the formula:"
   ]
  },
  {
   "cell_type": "code",
   "execution_count": 3,
   "metadata": {},
   "outputs": [],
   "source": [
    "def moment_rhs(N, digit=10):\n",
    "    t = 0\n",
    "    f = log(2*pi) - EulerGamma - 4 * N + (4**N / 2 - 1) * bernoulli(2 * N)\n",
    "    for j in range(2, 2 * N +1):\n",
    "        t += T(2 * N, j) * zeta(j) * bernoulli(j) / j\n",
    "    m = 2 * pi / ((-4)**N) * (f + t) \n",
    "    return m.evalf(digit)"
   ]
  },
  {
   "cell_type": "markdown",
   "metadata": {},
   "source": [
    "Using the left hand side (l.h.s.) of the formula, we now compute the $2N$-th moment, truncated by a \"precision bound\" $b$: \n",
    "\n",
    "\\begin{eqnarray}\n",
    "\\int_{-b}^b t^{2N}  \\left|\\Gamma\\cdot\\zeta\\left(\\frac{1}{2}+it\\right)\\right|^2 dt  & = & \n",
    "4\\pi \\int_{0}^b t^{2N}  \\left|\\zeta\\left(\\frac{1}{2}+it\\right)\\right|^2 \\frac{dt}{e^{\\pi t}+e^{-\\pi t}},\n",
    "\\end{eqnarray}\n",
    "since, for $s=1/2+it$, $$|\\Gamma(s)|^2 = \\Gamma(s)\\Gamma(1-s) =  \\frac{\\pi}{\\sin(\\pi s)} = \\frac{2\\pi}{e^{\\pi t}+e^{-\\pi t}}.$$"
   ]
  },
  {
   "cell_type": "code",
   "execution_count": 4,
   "metadata": {},
   "outputs": [],
   "source": [
    "def moment_lhs(N, bound_precision, digit=10):\n",
    "    t = Symbol('t')\n",
    "    m = (4 * pi * integrate(t**(2*N) * (Abs(zeta(1/2+I*t))**2 / (exp(pi * t) + exp(-pi * t))), (t, 0, bound_precision)))\n",
    "    return m.evalf(digit)"
   ]
  },
  {
   "cell_type": "markdown",
   "metadata": {},
   "source": [
    "We finally compute and display the first moments, with the desired bound $b$ and number of digit:"
   ]
  },
  {
   "cell_type": "code",
   "execution_count": 5,
   "metadata": {},
   "outputs": [],
   "source": [
    "def print_moments(first, bound_precision, digit=10):\n",
    "    md  = \"| 2N | Approx. Moments l.h.s. | Moments r.h.s. | \\n\"\n",
    "    md += \"| -- | ------ | ------ | \\n\"\n",
    "    md += \"\\n\".join([f\"| {2*i} | {moment_lhs(i, bound_precision, digit)} | {moment_rhs(i, digit)} |\" for i in range(first)])\n",
    "    display(Markdown(md))"
   ]
  },
  {
   "cell_type": "markdown",
   "metadata": {},
   "source": [
    "You can now play with $N$, $b$ and the number of digit to figure out the balance between $t^{2N}$ and $e^{-\\pi t}$.\n",
    "\n",
    "Notice that the approximated l.h.s. $\\int_{-b}^b$ always under-estimates the r.h.s.\n",
    "\n",
    "First we compute the six first truncated moments $\\int_{-12}^{12} t^{2N}  \\left|\\Gamma\\cdot\\zeta\\left(\\frac{1}{2}+it\\right)\\right|^2 dt$ with 10 digits."
   ]
  },
  {
   "cell_type": "code",
   "execution_count": 6,
   "metadata": {},
   "outputs": [
    {
     "data": {
      "text/markdown": [
       "| 2N | Approx. Moments l.h.s. | Moments r.h.s. | \n",
       "| -- | ------ | ------ | \n",
       "| 0 | 4.779376542 | 4.779376542 |\n",
       "| 2 | 0.5960017672 | 0.5960017672 |\n",
       "| 4 | 0.4343428171 | 0.4343428171 |\n",
       "| 6 | 1.016137186 | 1.016137186 |\n",
       "| 8 | 5.605324283 | 5.605324395 |\n",
       "| 10 | 57.63167042 | 57.63168733 |"
      ],
      "text/plain": [
       "<IPython.core.display.Markdown object>"
      ]
     },
     "metadata": {},
     "output_type": "display_data"
    }
   ],
   "source": [
    "print_moments(6, 12)"
   ]
  },
  {
   "cell_type": "markdown",
   "metadata": {},
   "source": [
    "We now compute the ten first truncated moments $\\int_{-18}^{18} t^{2N}  \\left|\\Gamma\\cdot\\zeta\\left(\\frac{1}{2}+it\\right)\\right|^2 dt$ with 14 digits."
   ]
  },
  {
   "cell_type": "code",
   "execution_count": 7,
   "metadata": {},
   "outputs": [
    {
     "data": {
      "text/markdown": [
       "| 2N | Approx. Moments l.h.s. | Moments r.h.s. | \n",
       "| -- | ------ | ------ | \n",
       "| 0 | 4.7793765416925 | 4.7793765416925 |\n",
       "| 2 | 0.59600176719321 | 0.59600176719321 |\n",
       "| 4 | 0.43434281706393 | 0.43434281706393 |\n",
       "| 6 | 1.0161371864005 | 1.0161371864005 |\n",
       "| 8 | 5.6053243950253 | 5.6053243950253 |\n",
       "| 10 | 57.631687331721 | 57.631687331745 |\n",
       "| 12 | 940.33740096681 | 940.33740097486 |\n",
       "| 14 | 21900.255000390 | 21900.255003099 |\n",
       "| 16 | 677625.44371491 | 677625.44462783 |\n",
       "| 18 | 26472138.947212 | 26472139.255259 |"
      ],
      "text/plain": [
       "<IPython.core.display.Markdown object>"
      ]
     },
     "metadata": {},
     "output_type": "display_data"
    }
   ],
   "source": [
    "print_moments(10, 18, 14)"
   ]
  }
 ],
 "metadata": {
  "kernelspec": {
   "display_name": "Python 3",
   "language": "python",
   "name": "python3"
  },
  "language_info": {
   "codemirror_mode": {
    "name": "ipython",
    "version": 3
   },
   "file_extension": ".py",
   "mimetype": "text/x-python",
   "name": "python",
   "nbconvert_exporter": "python",
   "pygments_lexer": "ipython3",
   "version": "3.7.4"
  }
 },
 "nbformat": 4,
 "nbformat_minor": 4
}
